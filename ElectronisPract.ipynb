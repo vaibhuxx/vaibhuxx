{
  "nbformat": 4,
  "nbformat_minor": 0,
  "metadata": {
    "colab": {
      "name": "ElectronisPract.ipynb",
      "provenance": [],
      "collapsed_sections": [],
      "authorship_tag": "ABX9TyOOOt+rBd63H7VcyD/DvTGA",
      "include_colab_link": true
    },
    "kernelspec": {
      "name": "python3",
      "display_name": "Python 3"
    },
    "language_info": {
      "name": "python"
    }
  },
  "cells": [
    {
      "cell_type": "markdown",
      "metadata": {
        "id": "view-in-github",
        "colab_type": "text"
      },
      "source": [
        "<a href=\"https://colab.research.google.com/github/vaibhuxx/vaibhuxx/blob/main/ElectronisPract.ipynb\" target=\"_parent\"><img src=\"https://colab.research.google.com/assets/colab-badge.svg\" alt=\"Open In Colab\"/></a>"
      ]
    },
    {
      "cell_type": "markdown",
      "source": [
        "Program to Interface LED and A switch to Rpi SBC "
      ],
      "metadata": {
        "id": "h2DaeH5LLOmH"
      }
    },
    {
      "cell_type": "code",
      "execution_count": null,
      "metadata": {
        "colab": {
          "base_uri": "https://localhost:8080/",
          "height": 373
        },
        "id": "9qGWivlQ8lD9",
        "outputId": "38f6ab74-7da3-460e-b8c4-b92b00ed8716"
      },
      "outputs": [
        {
          "output_type": "error",
          "ename": "ModuleNotFoundError",
          "evalue": "ignored",
          "traceback": [
            "\u001b[0;31m---------------------------------------------------------------------------\u001b[0m",
            "\u001b[0;31mModuleNotFoundError\u001b[0m                       Traceback (most recent call last)",
            "\u001b[0;32m<ipython-input-6-9db66aa562c4>\u001b[0m in \u001b[0;36m<module>\u001b[0;34m()\u001b[0m\n\u001b[0;32m----> 1\u001b[0;31m \u001b[0;32mimport\u001b[0m \u001b[0mRPi\u001b[0m\u001b[0;34m.\u001b[0m\u001b[0mGPIO\u001b[0m \u001b[0;32mas\u001b[0m \u001b[0mGPIO\u001b[0m\u001b[0;34m\u001b[0m\u001b[0;34m\u001b[0m\u001b[0m\n\u001b[0m\u001b[1;32m      2\u001b[0m \u001b[0;32mimport\u001b[0m \u001b[0mtime\u001b[0m\u001b[0;34m\u001b[0m\u001b[0;34m\u001b[0m\u001b[0m\n\u001b[1;32m      3\u001b[0m \u001b[0mGPIO\u001b[0m\u001b[0;34m.\u001b[0m\u001b[0msetmode\u001b[0m\u001b[0;34m(\u001b[0m\u001b[0mGPIO\u001b[0m\u001b[0;34m.\u001b[0m\u001b[0mBCM\u001b[0m\u001b[0;34m)\u001b[0m\u001b[0;34m\u001b[0m\u001b[0;34m\u001b[0m\u001b[0m\n\u001b[1;32m      4\u001b[0m \u001b[0mGPIO\u001b[0m\u001b[0;34m.\u001b[0m\u001b[0msetwarnings\u001b[0m\u001b[0;34m(\u001b[0m\u001b[0;32mFalse\u001b[0m\u001b[0;34m)\u001b[0m\u001b[0;34m\u001b[0m\u001b[0;34m\u001b[0m\u001b[0m\n\u001b[1;32m      5\u001b[0m \u001b[0mGPIO\u001b[0m\u001b[0;34m.\u001b[0m\u001b[0msetup\u001b[0m\u001b[0;34m(\u001b[0m\u001b[0;36m21\u001b[0m\u001b[0;34m,\u001b[0m\u001b[0mGPIO\u001b[0m\u001b[0;34m.\u001b[0m\u001b[0mOUT\u001b[0m\u001b[0;34m)\u001b[0m\u001b[0;34m\u001b[0m\u001b[0;34m\u001b[0m\u001b[0m\n",
            "\u001b[0;31mModuleNotFoundError\u001b[0m: No module named 'RPi'",
            "",
            "\u001b[0;31m---------------------------------------------------------------------------\u001b[0;32m\nNOTE: If your import is failing due to a missing package, you can\nmanually install dependencies using either !pip or !apt.\n\nTo view examples of installing some common dependencies, click the\n\"Open Examples\" button below.\n\u001b[0;31m---------------------------------------------------------------------------\u001b[0m\n"
          ],
          "errorDetails": {
            "actions": [
              {
                "action": "open_url",
                "actionText": "Open Examples",
                "url": "/notebooks/snippets/importing_libraries.ipynb"
              }
            ]
          }
        }
      ],
      "source": [
        "import RPi.GPIO as GPIO\n",
        "import time\n",
        "GPIO.setmode(GPIO.BCM)\n",
        "GPIO.setwarnings(False)\n",
        "GPIO.setup(21,GPIO.OUT)\n",
        "print (\"LED on\")\n",
        "GPIO.output(21,GPIO.HIGH)\n",
        "time.sleep(10)\n",
        "print (\"LED off\")\n",
        "GPIO.output(21,GPIO.LOW)\n",
        "gpio.cleanup()\n",
        "print('GPIO ran fine and cleaned up')"
      ]
    },
    {
      "cell_type": "markdown",
      "source": [
        "Program to interface LED and SWITCH to Rpi\n"
      ],
      "metadata": {
        "id": "4iSTAzXXL_-x"
      }
    },
    {
      "cell_type": "markdown",
      "source": [
        "ALGORITHM\n",
        "\n",
        "--> Import code needed to gpio control\n",
        "--> import code needed for the sleep function.\n",
        "--> use chip signal numbers\n",
        "--> set pin number to gpio(pin7) as output pin\n",
        "--> set a GPIO17(pin 11) as an input pin and connect a switch in pull-up mode\n",
        "--> create and infinite loop consisting required code\n",
        "--> check the value continulously\n",
        "--> If the switch is pressed the value is true\n",
        "--> If is true increment the couter\n",
        "--> print next to the terminal."
      ],
      "metadata": {
        "id": "A6emMZoIM02Z"
      }
    },
    {
      "cell_type": "code",
      "source": [
        "import Rpi.GPIO as gpio\n",
        "import time\n",
        "GPIO.setmode(GPIO.BOARD)\n",
        "GPIO.setup(4,GPIO.IN,pull_up_down=GPIO.PUD_up)\n",
        "while true:\n",
        "  input_value=GPIO.input(4)\n",
        "  if input_value == true:\n",
        "    print('switch is pressed')\n",
        "    time.sleep(0.5)"
      ],
      "metadata": {
        "id": "24Fd4KcNMIcN"
      },
      "execution_count": null,
      "outputs": []
    },
    {
      "cell_type": "markdown",
      "source": [
        "PROGRAM TO INTERFACING BLUETOOTH MODULE TO ARDUINO BOARD"
      ],
      "metadata": {
        "id": "YrJfzmtOLHZg"
      }
    },
    {
      "cell_type": "code",
      "source": [
        "char Incoming_value=0;\n",
        "void setup()\n",
        "{\n",
        " Serial.begin(9600);\n",
        " pinMode(13,OUTPUT);\n",
        "}\n",
        "void loop()\n",
        "{\n",
        " if(Serial.available()>0)\n",
        " {\n",
        " Incoming_value=Serial.read();\n",
        " Serial.print(Incoming_value);\n",
        " Serial.print(\"\\n\");\n",
        " if(Incoming_value=='1')\n",
        " digitalWrite(13,HIGH);\n",
        " else if(Incoming_value=='0')\n",
        " digitalWrite(13,LOW);\n",
        " }\n",
        "}\n"
      ],
      "metadata": {
        "id": "F5mSs7ZBLEdl"
      },
      "execution_count": null,
      "outputs": []
    }
  ]
}