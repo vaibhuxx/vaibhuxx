{
  "nbformat": 4,
  "nbformat_minor": 0,
  "metadata": {
    "colab": {
      "name": "PythonSlips.ipynb",
      "provenance": [],
      "collapsed_sections": [],
      "authorship_tag": "ABX9TyOj4Dhh5w/aZlIzjvepywKy",
      "include_colab_link": true
    },
    "kernelspec": {
      "name": "python3",
      "display_name": "Python 3"
    },
    "language_info": {
      "name": "python"
    }
  },
  "cells": [
    {
      "cell_type": "markdown",
      "metadata": {
        "id": "view-in-github",
        "colab_type": "text"
      },
      "source": [
        "<a href=\"https://colab.research.google.com/github/vaibhuxx/vaibhuxx/blob/main/PythonSlips.ipynb\" target=\"_parent\"><img src=\"https://colab.research.google.com/assets/colab-badge.svg\" alt=\"Open In Colab\"/></a>"
      ]
    },
    {
      "cell_type": "markdown",
      "source": [
        "Slip 10"
      ],
      "metadata": {
        "id": "llv8aCqXCu5B"
      }
    },
    {
      "cell_type": "code",
      "source": [
        "#Question 1\n",
        "from pylab import *\n",
        "import numpy as np\n",
        "x = np.linspace(-5,5,100)\n",
        "y=x**5\n",
        "plot(x,y)\n",
        "show()"
      ],
      "metadata": {
        "colab": {
          "base_uri": "https://localhost:8080/",
          "height": 265
        },
        "id": "ulnlakNHCxH5",
        "outputId": "20b9c7d2-178d-4012-8363-0ce7ee8cefe7"
      },
      "execution_count": null,
      "outputs": [
        {
          "output_type": "display_data",
          "data": {
            "text/plain": [
              "<Figure size 432x288 with 1 Axes>"
            ],
            "image/png": "[encoded data removed]"
          },
          "metadata": {
            "needs_background": "light"
          }
        }
      ]
    },
    {
      "cell_type": "code",
      "source": [
        "#Question 2\n",
        "from pylab import *\n",
        "import numpy as np\n",
        "from math import *\n",
        "x = np.linspace(0,5,100)\n",
        "y1=np.sin(x)\n",
        "y2=np.exp(x)\n",
        "y3=x**2\n",
        "subplot(2,2,1)\n",
        "plot(x,y1,label=\"$sin x$\")\n",
        "legend()\n",
        "subplot(2,2,2)\n",
        "plot(x,y2,label=\"$ e^x $\")\n",
        "legend()\n",
        "subplot(2,2,3)\n",
        "plot(x,y3,label=\"$ x^2 $\")\n",
        "legend()\n",
        "show()"
      ],
      "metadata": {
        "colab": {
          "base_uri": "https://localhost:8080/",
          "height": 266
        },
        "id": "SpqUxtMADUmm",
        "outputId": "af06d158-3d0f-422e-a9ec-c21cd2fd5c61"
      },
      "execution_count": null,
      "outputs": [
        {
          "output_type": "display_data",
          "data": {
            "text/plain": [
              "<Figure size 432x288 with 3 Axes>"
            ],
            "image/png": "[encoded data removed]"
          },
          "metadata": {
            "needs_background": "light"
          }
        }
      ]
    },
    {
      "cell_type": "code",
      "source": [
        "from sympy import *\n",
        "P=Point(1,0)\n",
        "Q=Point(2,3)\n",
        "R=Point(0,2)\n",
        "T=Triangle(P,Q,R)\n",
        "T.angles[P]\n",
        "\n"
      ],
      "metadata": {
        "colab": {
          "base_uri": "https://localhost:8080/",
          "height": 47
        },
        "id": "E-NtVNTAF2W7",
        "outputId": "6f68d8cc-6229-4f13-cd9f-a7b45fa543e2"
      },
      "execution_count": null,
      "outputs": [
        {
          "output_type": "execute_result",
          "data": {
            "text/plain": [
              "pi/4"
            ],
            "text/latex": "$\\displaystyle \\frac{\\pi}{4}$"
          },
          "metadata": {},
          "execution_count": 12
        }
      ]
    },
    {
      "cell_type": "code",
      "source": [
        "from sympy import *\n",
        "P=Point(1,0)\n",
        "Q=Point(2,3)\n",
        "R=Point(0,2)\n",
        "T=Triangle(P,Q,R)\n",
        "T.angles[R]"
      ],
      "metadata": {
        "colab": {
          "base_uri": "https://localhost:8080/",
          "height": 47
        },
        "id": "108ixzpwHi1B",
        "outputId": "263e25e7-464c-47fb-f3b7-538706e9a6d5"
      },
      "execution_count": null,
      "outputs": [
        {
          "output_type": "execute_result",
          "data": {
            "text/plain": [
              "pi/2"
            ],
            "text/latex": "$\\displaystyle \\frac{\\pi}{2}$"
          },
          "metadata": {},
          "execution_count": 10
        }
      ]
    },
    {
      "cell_type": "code",
      "source": [
        "from sympy import *\n",
        "P=Point(1,0)\n",
        "Q=Point(2,3)\n",
        "R=Point(0,2)\n",
        "T=Triangle(P,Q,R)\n",
        "T.angles[Q]"
      ],
      "metadata": {
        "colab": {
          "base_uri": "https://localhost:8080/",
          "height": 47
        },
        "id": "Mg6rQoJfHeh6",
        "outputId": "781224e3-6ed3-42a1-bebe-416b83a1c64a"
      },
      "execution_count": null,
      "outputs": [
        {
          "output_type": "execute_result",
          "data": {
            "text/plain": [
              "pi/4"
            ],
            "text/latex": "$\\displaystyle \\frac{\\pi}{4}$"
          },
          "metadata": {},
          "execution_count": 11
        }
      ]
    },
    {
      "cell_type": "code",
      "source": [
        "#Question 3\n",
        "from sympy import*\n",
        "P=Point(-2,4)\n",
        "x,y=symbols('x y')\n",
        "P.reflect(Line(3*x+4*y-5))"
      ],
      "metadata": {
        "colab": {
          "base_uri": "https://localhost:8080/",
          "height": 58
        },
        "id": "hegqT91UHrAg",
        "outputId": "5886d6b2-740a-4aa9-fadb-4a1a21d819ba"
      },
      "execution_count": null,
      "outputs": [
        {
          "output_type": "execute_result",
          "data": {
            "text/plain": [
              "Point2D(-16/5, 12/5)"
            ],
            "text/latex": "$\\displaystyle Point2D\\left(- \\frac{16}{5}, \\frac{12}{5}\\right)$"
          },
          "metadata": {},
          "execution_count": 18
        }
      ]
    },
    {
      "cell_type": "code",
      "source": [
        "from sympy import *\n",
        "P =Point(-2,4)\n",
        "x,y=symbols('x,y')\n",
        "P.transform(Matrix([[1,0,0],[7,1,0],[0,0,1]]))"
      ],
      "metadata": {
        "colab": {
          "base_uri": "https://localhost:8080/",
          "height": 38
        },
        "id": "S7iswRKaIwn_",
        "outputId": "71f1fa75-69df-48ff-8783-91638f92c4f4"
      },
      "execution_count": null,
      "outputs": [
        {
          "output_type": "execute_result",
          "data": {
            "text/plain": [
              "Point2D(26, 4)"
            ],
            "text/latex": "$\\displaystyle Point2D\\left(26, 4\\right)$"
          },
          "metadata": {},
          "execution_count": 19
        }
      ]
    },
    {
      "cell_type": "code",
      "source": [
        "from sympy import *\n",
        "P= Point(-2,4)\n",
        "x,y=symbols('x,y')\n",
        "P.scale(7,4)"
      ],
      "metadata": {
        "colab": {
          "base_uri": "https://localhost:8080/",
          "height": 38
        },
        "id": "V6h7omVIEJn8",
        "outputId": "e91f275d-5e6b-4f3d-dfa7-606ac6b5851f"
      },
      "execution_count": null,
      "outputs": [
        {
          "output_type": "execute_result",
          "data": {
            "text/plain": [
              "Point2D(-14, 16)"
            ],
            "text/latex": "$\\displaystyle Point2D\\left(-14, 16\\right)$"
          },
          "metadata": {},
          "execution_count": 1
        }
      ]
    },
    {
      "cell_type": "code",
      "source": [
        "from sympy import *\n",
        "P=Point(-2,4)\n",
        "x,y=symbols('x y')\n",
        "P.transform(Matrix([[1,7,0],[4,1,0],[0,0,1]]))"
      ],
      "metadata": {
        "colab": {
          "base_uri": "https://localhost:8080/",
          "height": 38
        },
        "id": "18jCyQQqJdlR",
        "outputId": "6ad4d23a-f0c3-48f6-b386-698356e1b6c9"
      },
      "execution_count": null,
      "outputs": [
        {
          "output_type": "execute_result",
          "data": {
            "text/plain": [
              "Point2D(14, -10)"
            ],
            "text/latex": "$\\displaystyle Point2D\\left(14, -10\\right)$"
          },
          "metadata": {},
          "execution_count": 1
        }
      ]
    },
    {
      "cell_type": "code",
      "source": [
        "from sympy import *\n",
        "P=Point(-2,4)\n",
        "x,y=symbols('x y')\n",
        "from math import * \n",
        "angle=radians(48)\n",
        "P.rotate(angle)"
      ],
      "metadata": {
        "colab": {
          "base_uri": "https://localhost:8080/",
          "height": 58
        },
        "id": "GQgB9hNzKWqz",
        "outputId": "dddece3f-404c-49c4-9e65-6ad2d234ee60"
      },
      "execution_count": null,
      "outputs": [
        {
          "output_type": "execute_result",
          "data": {
            "text/plain": [
              "Point2D(-431084051462729/100000000000000, 929869355063/781250000000)"
            ],
            "text/latex": "$\\displaystyle Point2D\\left(- \\frac{431084051462729}{100000000000000}, \\frac{929869355063}{781250000000}\\right)$"
          },
          "metadata": {},
          "execution_count": 7
        }
      ]
    },
    {
      "cell_type": "markdown",
      "source": [
        "Slip 9\n"
      ],
      "metadata": {
        "id": "opTbntfmMITO"
      }
    },
    {
      "cell_type": "code",
      "source": [
        "from pylab import *\n",
        "import numpy as np\n",
        "from math import *\n",
        "x = np.linspace (0,5,100)\n",
        "y1 = np.exp(-0.5**x)\n",
        "y2 = np.exp(-1.0**x)\n",
        "y3 = np.exp(-2.0**x)\n",
        "subplot(2,2,1)\n",
        "plot(x,y1,label = \"$e^{-0.5x}$\")\n",
        "legend()\n",
        "subplot(2,2,2)\n",
        "plot(x,y2,label= \"$e^{-1.0x}$\")\n",
        "legend()\n",
        "subplot(2,2,3)\n",
        "plot(x,y3,label=\"$e^{-2.0x}$\")\n",
        "legend()\n",
        "show()"
      ],
      "metadata": {
        "id": "Ft1DnkHFMC59",
        "colab": {
          "base_uri": "https://localhost:8080/",
          "height": 265
        },
        "outputId": "cc865728-1246-4ab7-be09-0594c22b7cf7"
      },
      "execution_count": null,
      "outputs": [
        {
          "output_type": "display_data",
          "data": {
            "text/plain": [
              "<Figure size 432x288 with 3 Axes>"
            ],
            "image/png": "[encoded data removed]"
          },
          "metadata": {
            "needs_background": "light"
          }
        }
      ]
    },
    {
      "cell_type": "markdown",
      "source": [
        "Slip 4"
      ],
      "metadata": {
        "id": "TrKdNPlvHiPw"
      }
    },
    {
      "cell_type": "code",
      "source": [
        "#Question 1\n",
        "from pylab import *\n",
        "import numpy as np\n",
        "from math import *\n",
        "x = np.linspace(-2*pi,2*pi,100)\n",
        "y = np.sin(x)\n",
        "plot(x,y)\n",
        "show()"
      ],
      "metadata": {
        "colab": {
          "base_uri": "https://localhost:8080/",
          "height": 265
        },
        "id": "zVI0pALAHkcJ",
        "outputId": "92a6d3ec-9138-4c5a-9a41-90990944b581"
      },
      "execution_count": null,
      "outputs": [
        {
          "output_type": "display_data",
          "data": {
            "text/plain": [
              "<Figure size 432x288 with 1 Axes>"
            ],
            "image/png": "[encoded data removed]"
          },
          "metadata": {
            "needs_background": "light"
          }
        }
      ]
    },
    {
      "cell_type": "code",
      "source": [
        "#Question 2\n",
        "from pylab import *\n",
        "import numpy as np\n",
        "from math import *\n",
        "x = np.linspace(0,5,100)\n",
        "y1 = np.exp(x)\n",
        "y2 = np.exp(-x)\n",
        "y3 = np.exp(1/x)\n",
        "subplot(3,1,1)\n",
        "plot(x,y1,label=\"$e^{x}$\")\n",
        "legend()\n",
        "subplot(3,1,2)\n",
        "plot(x,y2,label=\"$e^{-x}$\")\n",
        "legend()\n",
        "subplot(3,1,3)\n",
        "plot(x,y3,label=\"$e^{1/x}$\")\n",
        "legend()\n",
        "show()"
      ],
      "metadata": {
        "colab": {
          "base_uri": "https://localhost:8080/",
          "height": 321
        },
        "id": "1G1lu4Q1IaI6",
        "outputId": "c0327068-7da5-4554-d4e4-49eb8792f1cf"
      },
      "execution_count": null,
      "outputs": [
        {
          "output_type": "stream",
          "name": "stderr",
          "text": [
            "/usr/local/lib/python3.7/dist-packages/ipykernel_launcher.py:7: RuntimeWarning: divide by zero encountered in true_divide\n",
            "  import sys\n"
          ]
        },
        {
          "output_type": "display_data",
          "data": {
            "text/plain": [
              "<Figure size 432x288 with 3 Axes>"
            ],
            "image/png": "[encoded data removed]"
          },
          "metadata": {
            "needs_background": "light"
          }
        }
      ]
    },
    {
      "cell_type": "code",
      "source": [
        "#Question 3\n",
        "from sympy import *\n",
        "P= Point (-2,4)\n",
        "x,y = symbols ('x y')\n",
        "P.reflect(Line(3*x+4*y-5))"
      ],
      "metadata": {
        "colab": {
          "base_uri": "https://localhost:8080/",
          "height": 58
        },
        "id": "gt4I7PNoJa6W",
        "outputId": "91b2e6ad-a471-4252-a1b0-11fd2782dfb4"
      },
      "execution_count": null,
      "outputs": [
        {
          "output_type": "execute_result",
          "data": {
            "text/plain": [
              "Point2D(-16/5, 12/5)"
            ],
            "text/latex": "$\\displaystyle Point2D\\left(- \\frac{16}{5}, \\frac{12}{5}\\right)$"
          },
          "metadata": {},
          "execution_count": 16
        }
      ]
    }
  ]
}